{
  "nbformat": 4,
  "nbformat_minor": 0,
  "metadata": {
    "kernelspec": {
      "display_name": "Python 3",
      "language": "python",
      "name": "python3"
    },
    "language_info": {
      "codemirror_mode": {
        "name": "ipython",
        "version": 3
      },
      "file_extension": ".py",
      "mimetype": "text/x-python",
      "name": "python",
      "nbconvert_exporter": "python",
      "pygments_lexer": "ipython3",
      "version": "3.7.6"
    },
    "toc": {
      "base_numbering": 1,
      "nav_menu": {},
      "number_sections": true,
      "sideBar": true,
      "skip_h1_title": false,
      "title_cell": "Table of Contents",
      "title_sidebar": "Contents",
      "toc_cell": false,
      "toc_position": {},
      "toc_section_display": true,
      "toc_window_display": false
    },
    "varInspector": {
      "cols": {
        "lenName": 16,
        "lenType": 16,
        "lenVar": 40
      },
      "kernels_config": {
        "python": {
          "delete_cmd_postfix": "",
          "delete_cmd_prefix": "del ",
          "library": "var_list.py",
          "varRefreshCmd": "print(var_dic_list())"
        },
        "r": {
          "delete_cmd_postfix": ") ",
          "delete_cmd_prefix": "rm(",
          "library": "var_list.r",
          "varRefreshCmd": "cat(var_dic_list()) "
        }
      },
      "types_to_exclude": [
        "module",
        "function",
        "builtin_function_or_method",
        "instance",
        "_Feature"
      ],
      "window_display": false
    },
    "colab": {
      "name": "Binary_classification.ipynb",
      "provenance": [],
      "collapsed_sections": []
    },
    "accelerator": "GPU"
  },
  "cells": [
    {
      "cell_type": "markdown",
      "metadata": {
        "id": "ZZGG64-JayRU"
      },
      "source": [
        "# 파이토치를 통한 타이타닉 생존자 예측"
      ]
    },
    {
      "cell_type": "markdown",
      "metadata": {
        "id": "CTSuPTT6ayRe"
      },
      "source": [
        "## 데이터셋 로드"
      ]
    },
    {
      "cell_type": "code",
      "metadata": {
        "id": "Q0w28_MPayRf",
        "colab": {
          "base_uri": "https://localhost:8080/",
          "height": 417
        },
        "outputId": "0f60e398-2eb1-4f42-fd83-d424981c8fa1"
      },
      "source": [
        "# 데이터 분석을 위한 pandas, 시각화를 위한 seaborn 불러오기\n",
        "import pandas as pd\n",
        "import seaborn as sns\n",
        "\n",
        "df=sns.load_dataset(\"titanic\")\n",
        "\n",
        "# 문자형 데이터 수치로 변환하여 저장\n",
        "df=df.replace({False:0,True:1,\"no\":0,\"yes\":1,'male':0,'female':1,'man':0,'woman':1,'child':2})\n",
        "\n",
        "df"
      ],
      "execution_count": 546,
      "outputs": [
        {
          "output_type": "execute_result",
          "data": {
            "text/html": [
              "<div>\n",
              "<style scoped>\n",
              "    .dataframe tbody tr th:only-of-type {\n",
              "        vertical-align: middle;\n",
              "    }\n",
              "\n",
              "    .dataframe tbody tr th {\n",
              "        vertical-align: top;\n",
              "    }\n",
              "\n",
              "    .dataframe thead th {\n",
              "        text-align: right;\n",
              "    }\n",
              "</style>\n",
              "<table border=\"1\" class=\"dataframe\">\n",
              "  <thead>\n",
              "    <tr style=\"text-align: right;\">\n",
              "      <th></th>\n",
              "      <th>survived</th>\n",
              "      <th>pclass</th>\n",
              "      <th>sex</th>\n",
              "      <th>age</th>\n",
              "      <th>sibsp</th>\n",
              "      <th>parch</th>\n",
              "      <th>fare</th>\n",
              "      <th>embarked</th>\n",
              "      <th>class</th>\n",
              "      <th>who</th>\n",
              "      <th>adult_male</th>\n",
              "      <th>deck</th>\n",
              "      <th>embark_town</th>\n",
              "      <th>alive</th>\n",
              "      <th>alone</th>\n",
              "    </tr>\n",
              "  </thead>\n",
              "  <tbody>\n",
              "    <tr>\n",
              "      <th>0</th>\n",
              "      <td>0</td>\n",
              "      <td>3</td>\n",
              "      <td>0</td>\n",
              "      <td>22.0</td>\n",
              "      <td>1</td>\n",
              "      <td>0</td>\n",
              "      <td>7.2500</td>\n",
              "      <td>S</td>\n",
              "      <td>Third</td>\n",
              "      <td>0</td>\n",
              "      <td>1</td>\n",
              "      <td>NaN</td>\n",
              "      <td>Southampton</td>\n",
              "      <td>0</td>\n",
              "      <td>0</td>\n",
              "    </tr>\n",
              "    <tr>\n",
              "      <th>1</th>\n",
              "      <td>1</td>\n",
              "      <td>1</td>\n",
              "      <td>1</td>\n",
              "      <td>38.0</td>\n",
              "      <td>1</td>\n",
              "      <td>0</td>\n",
              "      <td>71.2833</td>\n",
              "      <td>C</td>\n",
              "      <td>First</td>\n",
              "      <td>1</td>\n",
              "      <td>0</td>\n",
              "      <td>C</td>\n",
              "      <td>Cherbourg</td>\n",
              "      <td>1</td>\n",
              "      <td>0</td>\n",
              "    </tr>\n",
              "    <tr>\n",
              "      <th>2</th>\n",
              "      <td>1</td>\n",
              "      <td>3</td>\n",
              "      <td>1</td>\n",
              "      <td>26.0</td>\n",
              "      <td>0</td>\n",
              "      <td>0</td>\n",
              "      <td>7.9250</td>\n",
              "      <td>S</td>\n",
              "      <td>Third</td>\n",
              "      <td>1</td>\n",
              "      <td>0</td>\n",
              "      <td>NaN</td>\n",
              "      <td>Southampton</td>\n",
              "      <td>1</td>\n",
              "      <td>1</td>\n",
              "    </tr>\n",
              "    <tr>\n",
              "      <th>3</th>\n",
              "      <td>1</td>\n",
              "      <td>1</td>\n",
              "      <td>1</td>\n",
              "      <td>35.0</td>\n",
              "      <td>1</td>\n",
              "      <td>0</td>\n",
              "      <td>53.1000</td>\n",
              "      <td>S</td>\n",
              "      <td>First</td>\n",
              "      <td>1</td>\n",
              "      <td>0</td>\n",
              "      <td>C</td>\n",
              "      <td>Southampton</td>\n",
              "      <td>1</td>\n",
              "      <td>0</td>\n",
              "    </tr>\n",
              "    <tr>\n",
              "      <th>4</th>\n",
              "      <td>0</td>\n",
              "      <td>3</td>\n",
              "      <td>0</td>\n",
              "      <td>35.0</td>\n",
              "      <td>0</td>\n",
              "      <td>0</td>\n",
              "      <td>8.0500</td>\n",
              "      <td>S</td>\n",
              "      <td>Third</td>\n",
              "      <td>0</td>\n",
              "      <td>1</td>\n",
              "      <td>NaN</td>\n",
              "      <td>Southampton</td>\n",
              "      <td>0</td>\n",
              "      <td>1</td>\n",
              "    </tr>\n",
              "    <tr>\n",
              "      <th>...</th>\n",
              "      <td>...</td>\n",
              "      <td>...</td>\n",
              "      <td>...</td>\n",
              "      <td>...</td>\n",
              "      <td>...</td>\n",
              "      <td>...</td>\n",
              "      <td>...</td>\n",
              "      <td>...</td>\n",
              "      <td>...</td>\n",
              "      <td>...</td>\n",
              "      <td>...</td>\n",
              "      <td>...</td>\n",
              "      <td>...</td>\n",
              "      <td>...</td>\n",
              "      <td>...</td>\n",
              "    </tr>\n",
              "    <tr>\n",
              "      <th>886</th>\n",
              "      <td>0</td>\n",
              "      <td>2</td>\n",
              "      <td>0</td>\n",
              "      <td>27.0</td>\n",
              "      <td>0</td>\n",
              "      <td>0</td>\n",
              "      <td>13.0000</td>\n",
              "      <td>S</td>\n",
              "      <td>Second</td>\n",
              "      <td>0</td>\n",
              "      <td>1</td>\n",
              "      <td>NaN</td>\n",
              "      <td>Southampton</td>\n",
              "      <td>0</td>\n",
              "      <td>1</td>\n",
              "    </tr>\n",
              "    <tr>\n",
              "      <th>887</th>\n",
              "      <td>1</td>\n",
              "      <td>1</td>\n",
              "      <td>1</td>\n",
              "      <td>19.0</td>\n",
              "      <td>0</td>\n",
              "      <td>0</td>\n",
              "      <td>30.0000</td>\n",
              "      <td>S</td>\n",
              "      <td>First</td>\n",
              "      <td>1</td>\n",
              "      <td>0</td>\n",
              "      <td>B</td>\n",
              "      <td>Southampton</td>\n",
              "      <td>1</td>\n",
              "      <td>1</td>\n",
              "    </tr>\n",
              "    <tr>\n",
              "      <th>888</th>\n",
              "      <td>0</td>\n",
              "      <td>3</td>\n",
              "      <td>1</td>\n",
              "      <td>NaN</td>\n",
              "      <td>1</td>\n",
              "      <td>2</td>\n",
              "      <td>23.4500</td>\n",
              "      <td>S</td>\n",
              "      <td>Third</td>\n",
              "      <td>1</td>\n",
              "      <td>0</td>\n",
              "      <td>NaN</td>\n",
              "      <td>Southampton</td>\n",
              "      <td>0</td>\n",
              "      <td>0</td>\n",
              "    </tr>\n",
              "    <tr>\n",
              "      <th>889</th>\n",
              "      <td>1</td>\n",
              "      <td>1</td>\n",
              "      <td>0</td>\n",
              "      <td>26.0</td>\n",
              "      <td>0</td>\n",
              "      <td>0</td>\n",
              "      <td>30.0000</td>\n",
              "      <td>C</td>\n",
              "      <td>First</td>\n",
              "      <td>0</td>\n",
              "      <td>1</td>\n",
              "      <td>C</td>\n",
              "      <td>Cherbourg</td>\n",
              "      <td>1</td>\n",
              "      <td>1</td>\n",
              "    </tr>\n",
              "    <tr>\n",
              "      <th>890</th>\n",
              "      <td>0</td>\n",
              "      <td>3</td>\n",
              "      <td>0</td>\n",
              "      <td>32.0</td>\n",
              "      <td>0</td>\n",
              "      <td>0</td>\n",
              "      <td>7.7500</td>\n",
              "      <td>Q</td>\n",
              "      <td>Third</td>\n",
              "      <td>0</td>\n",
              "      <td>1</td>\n",
              "      <td>NaN</td>\n",
              "      <td>Queenstown</td>\n",
              "      <td>0</td>\n",
              "      <td>1</td>\n",
              "    </tr>\n",
              "  </tbody>\n",
              "</table>\n",
              "<p>891 rows × 15 columns</p>\n",
              "</div>"
            ],
            "text/plain": [
              "     survived  pclass  sex   age  ...  deck  embark_town  alive alone\n",
              "0           0       3    0  22.0  ...   NaN  Southampton      0     0\n",
              "1           1       1    1  38.0  ...     C    Cherbourg      1     0\n",
              "2           1       3    1  26.0  ...   NaN  Southampton      1     1\n",
              "3           1       1    1  35.0  ...     C  Southampton      1     0\n",
              "4           0       3    0  35.0  ...   NaN  Southampton      0     1\n",
              "..        ...     ...  ...   ...  ...   ...          ...    ...   ...\n",
              "886         0       2    0  27.0  ...   NaN  Southampton      0     1\n",
              "887         1       1    1  19.0  ...     B  Southampton      1     1\n",
              "888         0       3    1   NaN  ...   NaN  Southampton      0     0\n",
              "889         1       1    0  26.0  ...     C    Cherbourg      1     1\n",
              "890         0       3    0  32.0  ...   NaN   Queenstown      0     1\n",
              "\n",
              "[891 rows x 15 columns]"
            ]
          },
          "metadata": {
            "tags": []
          },
          "execution_count": 546
        }
      ]
    },
    {
      "cell_type": "markdown",
      "metadata": {
        "id": "z0bT05uwayRk"
      },
      "source": [
        "## 전체 데이터에 대한 기술 통계 확인"
      ]
    },
    {
      "cell_type": "code",
      "metadata": {
        "id": "-1EF5QROayRk",
        "colab": {
          "base_uri": "https://localhost:8080/",
          "height": 388
        },
        "outputId": "85eb8783-3703-4ea9-8f9c-92de2b67ed1a"
      },
      "source": [
        "# describe 를 통해 기술 통계값을 확인합니다.\n",
        "df.describe(include=\"all\")"
      ],
      "execution_count": 547,
      "outputs": [
        {
          "output_type": "execute_result",
          "data": {
            "text/html": [
              "<div>\n",
              "<style scoped>\n",
              "    .dataframe tbody tr th:only-of-type {\n",
              "        vertical-align: middle;\n",
              "    }\n",
              "\n",
              "    .dataframe tbody tr th {\n",
              "        vertical-align: top;\n",
              "    }\n",
              "\n",
              "    .dataframe thead th {\n",
              "        text-align: right;\n",
              "    }\n",
              "</style>\n",
              "<table border=\"1\" class=\"dataframe\">\n",
              "  <thead>\n",
              "    <tr style=\"text-align: right;\">\n",
              "      <th></th>\n",
              "      <th>survived</th>\n",
              "      <th>pclass</th>\n",
              "      <th>sex</th>\n",
              "      <th>age</th>\n",
              "      <th>sibsp</th>\n",
              "      <th>parch</th>\n",
              "      <th>fare</th>\n",
              "      <th>embarked</th>\n",
              "      <th>class</th>\n",
              "      <th>who</th>\n",
              "      <th>adult_male</th>\n",
              "      <th>deck</th>\n",
              "      <th>embark_town</th>\n",
              "      <th>alive</th>\n",
              "      <th>alone</th>\n",
              "    </tr>\n",
              "  </thead>\n",
              "  <tbody>\n",
              "    <tr>\n",
              "      <th>count</th>\n",
              "      <td>891.000000</td>\n",
              "      <td>891.000000</td>\n",
              "      <td>891.000000</td>\n",
              "      <td>714.000000</td>\n",
              "      <td>891.000000</td>\n",
              "      <td>891.000000</td>\n",
              "      <td>891.000000</td>\n",
              "      <td>889</td>\n",
              "      <td>891</td>\n",
              "      <td>891.000000</td>\n",
              "      <td>891.000000</td>\n",
              "      <td>203</td>\n",
              "      <td>889</td>\n",
              "      <td>891.000000</td>\n",
              "      <td>891.000000</td>\n",
              "    </tr>\n",
              "    <tr>\n",
              "      <th>unique</th>\n",
              "      <td>NaN</td>\n",
              "      <td>NaN</td>\n",
              "      <td>NaN</td>\n",
              "      <td>NaN</td>\n",
              "      <td>NaN</td>\n",
              "      <td>NaN</td>\n",
              "      <td>NaN</td>\n",
              "      <td>3</td>\n",
              "      <td>3</td>\n",
              "      <td>NaN</td>\n",
              "      <td>NaN</td>\n",
              "      <td>7</td>\n",
              "      <td>3</td>\n",
              "      <td>NaN</td>\n",
              "      <td>NaN</td>\n",
              "    </tr>\n",
              "    <tr>\n",
              "      <th>top</th>\n",
              "      <td>NaN</td>\n",
              "      <td>NaN</td>\n",
              "      <td>NaN</td>\n",
              "      <td>NaN</td>\n",
              "      <td>NaN</td>\n",
              "      <td>NaN</td>\n",
              "      <td>NaN</td>\n",
              "      <td>S</td>\n",
              "      <td>Third</td>\n",
              "      <td>NaN</td>\n",
              "      <td>NaN</td>\n",
              "      <td>C</td>\n",
              "      <td>Southampton</td>\n",
              "      <td>NaN</td>\n",
              "      <td>NaN</td>\n",
              "    </tr>\n",
              "    <tr>\n",
              "      <th>freq</th>\n",
              "      <td>NaN</td>\n",
              "      <td>NaN</td>\n",
              "      <td>NaN</td>\n",
              "      <td>NaN</td>\n",
              "      <td>NaN</td>\n",
              "      <td>NaN</td>\n",
              "      <td>NaN</td>\n",
              "      <td>644</td>\n",
              "      <td>491</td>\n",
              "      <td>NaN</td>\n",
              "      <td>NaN</td>\n",
              "      <td>59</td>\n",
              "      <td>644</td>\n",
              "      <td>NaN</td>\n",
              "      <td>NaN</td>\n",
              "    </tr>\n",
              "    <tr>\n",
              "      <th>mean</th>\n",
              "      <td>0.383838</td>\n",
              "      <td>2.308642</td>\n",
              "      <td>0.352413</td>\n",
              "      <td>29.699118</td>\n",
              "      <td>0.523008</td>\n",
              "      <td>0.381594</td>\n",
              "      <td>32.204208</td>\n",
              "      <td>NaN</td>\n",
              "      <td>NaN</td>\n",
              "      <td>0.490460</td>\n",
              "      <td>0.602694</td>\n",
              "      <td>NaN</td>\n",
              "      <td>NaN</td>\n",
              "      <td>0.383838</td>\n",
              "      <td>0.602694</td>\n",
              "    </tr>\n",
              "    <tr>\n",
              "      <th>std</th>\n",
              "      <td>0.486592</td>\n",
              "      <td>0.836071</td>\n",
              "      <td>0.477990</td>\n",
              "      <td>14.526497</td>\n",
              "      <td>1.102743</td>\n",
              "      <td>0.806057</td>\n",
              "      <td>49.693429</td>\n",
              "      <td>NaN</td>\n",
              "      <td>NaN</td>\n",
              "      <td>0.660838</td>\n",
              "      <td>0.489615</td>\n",
              "      <td>NaN</td>\n",
              "      <td>NaN</td>\n",
              "      <td>0.486592</td>\n",
              "      <td>0.489615</td>\n",
              "    </tr>\n",
              "    <tr>\n",
              "      <th>min</th>\n",
              "      <td>0.000000</td>\n",
              "      <td>1.000000</td>\n",
              "      <td>0.000000</td>\n",
              "      <td>0.420000</td>\n",
              "      <td>0.000000</td>\n",
              "      <td>0.000000</td>\n",
              "      <td>0.000000</td>\n",
              "      <td>NaN</td>\n",
              "      <td>NaN</td>\n",
              "      <td>0.000000</td>\n",
              "      <td>0.000000</td>\n",
              "      <td>NaN</td>\n",
              "      <td>NaN</td>\n",
              "      <td>0.000000</td>\n",
              "      <td>0.000000</td>\n",
              "    </tr>\n",
              "    <tr>\n",
              "      <th>25%</th>\n",
              "      <td>0.000000</td>\n",
              "      <td>2.000000</td>\n",
              "      <td>0.000000</td>\n",
              "      <td>20.125000</td>\n",
              "      <td>0.000000</td>\n",
              "      <td>0.000000</td>\n",
              "      <td>7.910400</td>\n",
              "      <td>NaN</td>\n",
              "      <td>NaN</td>\n",
              "      <td>0.000000</td>\n",
              "      <td>0.000000</td>\n",
              "      <td>NaN</td>\n",
              "      <td>NaN</td>\n",
              "      <td>0.000000</td>\n",
              "      <td>0.000000</td>\n",
              "    </tr>\n",
              "    <tr>\n",
              "      <th>50%</th>\n",
              "      <td>0.000000</td>\n",
              "      <td>3.000000</td>\n",
              "      <td>0.000000</td>\n",
              "      <td>28.000000</td>\n",
              "      <td>0.000000</td>\n",
              "      <td>0.000000</td>\n",
              "      <td>14.454200</td>\n",
              "      <td>NaN</td>\n",
              "      <td>NaN</td>\n",
              "      <td>0.000000</td>\n",
              "      <td>1.000000</td>\n",
              "      <td>NaN</td>\n",
              "      <td>NaN</td>\n",
              "      <td>0.000000</td>\n",
              "      <td>1.000000</td>\n",
              "    </tr>\n",
              "    <tr>\n",
              "      <th>75%</th>\n",
              "      <td>1.000000</td>\n",
              "      <td>3.000000</td>\n",
              "      <td>1.000000</td>\n",
              "      <td>38.000000</td>\n",
              "      <td>1.000000</td>\n",
              "      <td>0.000000</td>\n",
              "      <td>31.000000</td>\n",
              "      <td>NaN</td>\n",
              "      <td>NaN</td>\n",
              "      <td>1.000000</td>\n",
              "      <td>1.000000</td>\n",
              "      <td>NaN</td>\n",
              "      <td>NaN</td>\n",
              "      <td>1.000000</td>\n",
              "      <td>1.000000</td>\n",
              "    </tr>\n",
              "    <tr>\n",
              "      <th>max</th>\n",
              "      <td>1.000000</td>\n",
              "      <td>3.000000</td>\n",
              "      <td>1.000000</td>\n",
              "      <td>80.000000</td>\n",
              "      <td>8.000000</td>\n",
              "      <td>6.000000</td>\n",
              "      <td>512.329200</td>\n",
              "      <td>NaN</td>\n",
              "      <td>NaN</td>\n",
              "      <td>2.000000</td>\n",
              "      <td>1.000000</td>\n",
              "      <td>NaN</td>\n",
              "      <td>NaN</td>\n",
              "      <td>1.000000</td>\n",
              "      <td>1.000000</td>\n",
              "    </tr>\n",
              "  </tbody>\n",
              "</table>\n",
              "</div>"
            ],
            "text/plain": [
              "          survived      pclass         sex  ...  embark_town       alive       alone\n",
              "count   891.000000  891.000000  891.000000  ...          889  891.000000  891.000000\n",
              "unique         NaN         NaN         NaN  ...            3         NaN         NaN\n",
              "top            NaN         NaN         NaN  ...  Southampton         NaN         NaN\n",
              "freq           NaN         NaN         NaN  ...          644         NaN         NaN\n",
              "mean      0.383838    2.308642    0.352413  ...          NaN    0.383838    0.602694\n",
              "std       0.486592    0.836071    0.477990  ...          NaN    0.486592    0.489615\n",
              "min       0.000000    1.000000    0.000000  ...          NaN    0.000000    0.000000\n",
              "25%       0.000000    2.000000    0.000000  ...          NaN    0.000000    0.000000\n",
              "50%       0.000000    3.000000    0.000000  ...          NaN    0.000000    1.000000\n",
              "75%       1.000000    3.000000    1.000000  ...          NaN    1.000000    1.000000\n",
              "max       1.000000    3.000000    1.000000  ...          NaN    1.000000    1.000000\n",
              "\n",
              "[11 rows x 15 columns]"
            ]
          },
          "metadata": {
            "tags": []
          },
          "execution_count": 547
        }
      ]
    },
    {
      "cell_type": "markdown",
      "metadata": {
        "id": "sJm4GvV6i5Qf"
      },
      "source": [
        "### unique 값 확인하기"
      ]
    },
    {
      "cell_type": "code",
      "metadata": {
        "colab": {
          "base_uri": "https://localhost:8080/"
        },
        "id": "7mWN9Bsbi8tz",
        "outputId": "9a3a44eb-f96f-4efe-da35-d8fa90439a7b"
      },
      "source": [
        "for i in df.columns:\n",
        "  print(i,\":\",df[i].nunique())"
      ],
      "execution_count": 548,
      "outputs": [
        {
          "output_type": "stream",
          "text": [
            "survived : 2\n",
            "pclass : 3\n",
            "sex : 2\n",
            "age : 88\n",
            "sibsp : 7\n",
            "parch : 7\n",
            "fare : 248\n",
            "embarked : 3\n",
            "class : 3\n",
            "who : 3\n",
            "adult_male : 2\n",
            "deck : 7\n",
            "embark_town : 3\n",
            "alive : 2\n",
            "alone : 2\n"
          ],
          "name": "stdout"
        }
      ]
    },
    {
      "cell_type": "markdown",
      "metadata": {
        "id": "D4KkSYZ1ayRg"
      },
      "source": [
        "### 상관계수 확인하기\n",
        "\n",
        "연관성이 있는 데이터 : pclass, sex, fare, who, adult_male, alone"
      ]
    },
    {
      "cell_type": "code",
      "metadata": {
        "colab": {
          "base_uri": "https://localhost:8080/",
          "height": 388
        },
        "id": "mw0AOh7MY68B",
        "outputId": "574dedfb-8800-470d-fce7-9e39f25167b1"
      },
      "source": [
        "corr=df.corr()\n",
        "corr"
      ],
      "execution_count": 549,
      "outputs": [
        {
          "output_type": "execute_result",
          "data": {
            "text/html": [
              "<div>\n",
              "<style scoped>\n",
              "    .dataframe tbody tr th:only-of-type {\n",
              "        vertical-align: middle;\n",
              "    }\n",
              "\n",
              "    .dataframe tbody tr th {\n",
              "        vertical-align: top;\n",
              "    }\n",
              "\n",
              "    .dataframe thead th {\n",
              "        text-align: right;\n",
              "    }\n",
              "</style>\n",
              "<table border=\"1\" class=\"dataframe\">\n",
              "  <thead>\n",
              "    <tr style=\"text-align: right;\">\n",
              "      <th></th>\n",
              "      <th>survived</th>\n",
              "      <th>pclass</th>\n",
              "      <th>sex</th>\n",
              "      <th>age</th>\n",
              "      <th>sibsp</th>\n",
              "      <th>parch</th>\n",
              "      <th>fare</th>\n",
              "      <th>who</th>\n",
              "      <th>adult_male</th>\n",
              "      <th>alive</th>\n",
              "      <th>alone</th>\n",
              "    </tr>\n",
              "  </thead>\n",
              "  <tbody>\n",
              "    <tr>\n",
              "      <th>survived</th>\n",
              "      <td>1.000000</td>\n",
              "      <td>-0.338481</td>\n",
              "      <td>0.543351</td>\n",
              "      <td>-0.077221</td>\n",
              "      <td>-0.035322</td>\n",
              "      <td>0.081629</td>\n",
              "      <td>0.257307</td>\n",
              "      <td>0.472637</td>\n",
              "      <td>-0.557080</td>\n",
              "      <td>1.000000</td>\n",
              "      <td>-0.203367</td>\n",
              "    </tr>\n",
              "    <tr>\n",
              "      <th>pclass</th>\n",
              "      <td>-0.338481</td>\n",
              "      <td>1.000000</td>\n",
              "      <td>-0.131900</td>\n",
              "      <td>-0.369226</td>\n",
              "      <td>0.083081</td>\n",
              "      <td>0.018443</td>\n",
              "      <td>-0.549500</td>\n",
              "      <td>-0.016018</td>\n",
              "      <td>0.094035</td>\n",
              "      <td>-0.338481</td>\n",
              "      <td>0.135207</td>\n",
              "    </tr>\n",
              "    <tr>\n",
              "      <th>sex</th>\n",
              "      <td>0.543351</td>\n",
              "      <td>-0.131900</td>\n",
              "      <td>1.000000</td>\n",
              "      <td>-0.093254</td>\n",
              "      <td>0.114631</td>\n",
              "      <td>0.245489</td>\n",
              "      <td>0.182333</td>\n",
              "      <td>0.722076</td>\n",
              "      <td>-0.908578</td>\n",
              "      <td>0.543351</td>\n",
              "      <td>-0.303646</td>\n",
              "    </tr>\n",
              "    <tr>\n",
              "      <th>age</th>\n",
              "      <td>-0.077221</td>\n",
              "      <td>-0.369226</td>\n",
              "      <td>-0.093254</td>\n",
              "      <td>1.000000</td>\n",
              "      <td>-0.308247</td>\n",
              "      <td>-0.189119</td>\n",
              "      <td>0.096067</td>\n",
              "      <td>-0.468941</td>\n",
              "      <td>0.280328</td>\n",
              "      <td>-0.077221</td>\n",
              "      <td>0.198270</td>\n",
              "    </tr>\n",
              "    <tr>\n",
              "      <th>sibsp</th>\n",
              "      <td>-0.035322</td>\n",
              "      <td>0.083081</td>\n",
              "      <td>0.114631</td>\n",
              "      <td>-0.308247</td>\n",
              "      <td>1.000000</td>\n",
              "      <td>0.414838</td>\n",
              "      <td>0.159651</td>\n",
              "      <td>0.342977</td>\n",
              "      <td>-0.253586</td>\n",
              "      <td>-0.035322</td>\n",
              "      <td>-0.584471</td>\n",
              "    </tr>\n",
              "    <tr>\n",
              "      <th>parch</th>\n",
              "      <td>0.081629</td>\n",
              "      <td>0.018443</td>\n",
              "      <td>0.245489</td>\n",
              "      <td>-0.189119</td>\n",
              "      <td>0.414838</td>\n",
              "      <td>1.000000</td>\n",
              "      <td>0.216225</td>\n",
              "      <td>0.413947</td>\n",
              "      <td>-0.349943</td>\n",
              "      <td>0.081629</td>\n",
              "      <td>-0.583398</td>\n",
              "    </tr>\n",
              "    <tr>\n",
              "      <th>fare</th>\n",
              "      <td>0.257307</td>\n",
              "      <td>-0.549500</td>\n",
              "      <td>0.182333</td>\n",
              "      <td>0.096067</td>\n",
              "      <td>0.159651</td>\n",
              "      <td>0.216225</td>\n",
              "      <td>1.000000</td>\n",
              "      <td>0.136513</td>\n",
              "      <td>-0.182024</td>\n",
              "      <td>0.257307</td>\n",
              "      <td>-0.271832</td>\n",
              "    </tr>\n",
              "    <tr>\n",
              "      <th>who</th>\n",
              "      <td>0.472637</td>\n",
              "      <td>-0.016018</td>\n",
              "      <td>0.722076</td>\n",
              "      <td>-0.468941</td>\n",
              "      <td>0.342977</td>\n",
              "      <td>0.413947</td>\n",
              "      <td>0.136513</td>\n",
              "      <td>1.000000</td>\n",
              "      <td>-0.914615</td>\n",
              "      <td>0.472637</td>\n",
              "      <td>-0.452753</td>\n",
              "    </tr>\n",
              "    <tr>\n",
              "      <th>adult_male</th>\n",
              "      <td>-0.557080</td>\n",
              "      <td>0.094035</td>\n",
              "      <td>-0.908578</td>\n",
              "      <td>0.280328</td>\n",
              "      <td>-0.253586</td>\n",
              "      <td>-0.349943</td>\n",
              "      <td>-0.182024</td>\n",
              "      <td>-0.914615</td>\n",
              "      <td>1.000000</td>\n",
              "      <td>-0.557080</td>\n",
              "      <td>0.404744</td>\n",
              "    </tr>\n",
              "    <tr>\n",
              "      <th>alive</th>\n",
              "      <td>1.000000</td>\n",
              "      <td>-0.338481</td>\n",
              "      <td>0.543351</td>\n",
              "      <td>-0.077221</td>\n",
              "      <td>-0.035322</td>\n",
              "      <td>0.081629</td>\n",
              "      <td>0.257307</td>\n",
              "      <td>0.472637</td>\n",
              "      <td>-0.557080</td>\n",
              "      <td>1.000000</td>\n",
              "      <td>-0.203367</td>\n",
              "    </tr>\n",
              "    <tr>\n",
              "      <th>alone</th>\n",
              "      <td>-0.203367</td>\n",
              "      <td>0.135207</td>\n",
              "      <td>-0.303646</td>\n",
              "      <td>0.198270</td>\n",
              "      <td>-0.584471</td>\n",
              "      <td>-0.583398</td>\n",
              "      <td>-0.271832</td>\n",
              "      <td>-0.452753</td>\n",
              "      <td>0.404744</td>\n",
              "      <td>-0.203367</td>\n",
              "      <td>1.000000</td>\n",
              "    </tr>\n",
              "  </tbody>\n",
              "</table>\n",
              "</div>"
            ],
            "text/plain": [
              "            survived    pclass       sex  ...  adult_male     alive     alone\n",
              "survived    1.000000 -0.338481  0.543351  ...   -0.557080  1.000000 -0.203367\n",
              "pclass     -0.338481  1.000000 -0.131900  ...    0.094035 -0.338481  0.135207\n",
              "sex         0.543351 -0.131900  1.000000  ...   -0.908578  0.543351 -0.303646\n",
              "age        -0.077221 -0.369226 -0.093254  ...    0.280328 -0.077221  0.198270\n",
              "sibsp      -0.035322  0.083081  0.114631  ...   -0.253586 -0.035322 -0.584471\n",
              "parch       0.081629  0.018443  0.245489  ...   -0.349943  0.081629 -0.583398\n",
              "fare        0.257307 -0.549500  0.182333  ...   -0.182024  0.257307 -0.271832\n",
              "who         0.472637 -0.016018  0.722076  ...   -0.914615  0.472637 -0.452753\n",
              "adult_male -0.557080  0.094035 -0.908578  ...    1.000000 -0.557080  0.404744\n",
              "alive       1.000000 -0.338481  0.543351  ...   -0.557080  1.000000 -0.203367\n",
              "alone      -0.203367  0.135207 -0.303646  ...    0.404744 -0.203367  1.000000\n",
              "\n",
              "[11 rows x 11 columns]"
            ]
          },
          "metadata": {
            "tags": []
          },
          "execution_count": 549
        }
      ]
    },
    {
      "cell_type": "markdown",
      "metadata": {
        "id": "IiWgybqcix2p"
      },
      "source": [
        "### 결측치 확인하기"
      ]
    },
    {
      "cell_type": "code",
      "metadata": {
        "id": "EP0C6LzGayRg",
        "colab": {
          "base_uri": "https://localhost:8080/"
        },
        "outputId": "4f302fe0-302b-4e11-f7b6-1abb2eb9d081"
      },
      "source": [
        "# 결측치의 합계 구하기\n",
        "df.isnull().sum()"
      ],
      "execution_count": 550,
      "outputs": [
        {
          "output_type": "execute_result",
          "data": {
            "text/plain": [
              "survived         0\n",
              "pclass           0\n",
              "sex              0\n",
              "age            177\n",
              "sibsp            0\n",
              "parch            0\n",
              "fare             0\n",
              "embarked         2\n",
              "class            0\n",
              "who              0\n",
              "adult_male       0\n",
              "deck           688\n",
              "embark_town      2\n",
              "alive            0\n",
              "alone            0\n",
              "dtype: int64"
            ]
          },
          "metadata": {
            "tags": []
          },
          "execution_count": 550
        }
      ]
    },
    {
      "cell_type": "markdown",
      "metadata": {
        "id": "2RMSVwS0ayRh"
      },
      "source": [
        "## 결측치 제거"
      ]
    },
    {
      "cell_type": "code",
      "metadata": {
        "id": "P6OOAt6yayRi",
        "colab": {
          "base_uri": "https://localhost:8080/"
        },
        "outputId": "9f6f120d-9a21-46c3-90bc-29deab9d6887"
      },
      "source": [
        "# dropna로 결측치를 제거합니다.\n",
        "df=df.dropna()\n",
        "df.shape"
      ],
      "execution_count": 551,
      "outputs": [
        {
          "output_type": "execute_result",
          "data": {
            "text/plain": [
              "(182, 15)"
            ]
          },
          "metadata": {
            "tags": []
          },
          "execution_count": 551
        }
      ]
    },
    {
      "cell_type": "markdown",
      "metadata": {
        "id": "KZZQzd6IayRi"
      },
      "source": [
        "### 필요없는 데이터 제거하기\n",
        "* 머신러닝이나 딥러닝 모델은 내부에서 수치계산을 하기 때문에 숫자가 아닌 데이터를 넣어주면 모델이 학습과 예측을 할 수 없습니다."
      ]
    },
    {
      "cell_type": "code",
      "metadata": {
        "id": "VKynnsWxayRj",
        "colab": {
          "base_uri": "https://localhost:8080/",
          "height": 417
        },
        "outputId": "00ba26dc-b007-442e-bc94-52836deafe06"
      },
      "source": [
        "# select_dtypes 를 통해 object 타입을 제외하고 가져옵니다.\n",
        "df=df.select_dtypes(exclude=\"object\")\n",
        "df=df.drop(['alive','deck','class'],axis=1)\n",
        "df"
      ],
      "execution_count": 552,
      "outputs": [
        {
          "output_type": "execute_result",
          "data": {
            "text/html": [
              "<div>\n",
              "<style scoped>\n",
              "    .dataframe tbody tr th:only-of-type {\n",
              "        vertical-align: middle;\n",
              "    }\n",
              "\n",
              "    .dataframe tbody tr th {\n",
              "        vertical-align: top;\n",
              "    }\n",
              "\n",
              "    .dataframe thead th {\n",
              "        text-align: right;\n",
              "    }\n",
              "</style>\n",
              "<table border=\"1\" class=\"dataframe\">\n",
              "  <thead>\n",
              "    <tr style=\"text-align: right;\">\n",
              "      <th></th>\n",
              "      <th>survived</th>\n",
              "      <th>pclass</th>\n",
              "      <th>sex</th>\n",
              "      <th>age</th>\n",
              "      <th>sibsp</th>\n",
              "      <th>parch</th>\n",
              "      <th>fare</th>\n",
              "      <th>who</th>\n",
              "      <th>adult_male</th>\n",
              "      <th>alone</th>\n",
              "    </tr>\n",
              "  </thead>\n",
              "  <tbody>\n",
              "    <tr>\n",
              "      <th>1</th>\n",
              "      <td>1</td>\n",
              "      <td>1</td>\n",
              "      <td>1</td>\n",
              "      <td>38.0</td>\n",
              "      <td>1</td>\n",
              "      <td>0</td>\n",
              "      <td>71.2833</td>\n",
              "      <td>1</td>\n",
              "      <td>0</td>\n",
              "      <td>0</td>\n",
              "    </tr>\n",
              "    <tr>\n",
              "      <th>3</th>\n",
              "      <td>1</td>\n",
              "      <td>1</td>\n",
              "      <td>1</td>\n",
              "      <td>35.0</td>\n",
              "      <td>1</td>\n",
              "      <td>0</td>\n",
              "      <td>53.1000</td>\n",
              "      <td>1</td>\n",
              "      <td>0</td>\n",
              "      <td>0</td>\n",
              "    </tr>\n",
              "    <tr>\n",
              "      <th>6</th>\n",
              "      <td>0</td>\n",
              "      <td>1</td>\n",
              "      <td>0</td>\n",
              "      <td>54.0</td>\n",
              "      <td>0</td>\n",
              "      <td>0</td>\n",
              "      <td>51.8625</td>\n",
              "      <td>0</td>\n",
              "      <td>1</td>\n",
              "      <td>1</td>\n",
              "    </tr>\n",
              "    <tr>\n",
              "      <th>10</th>\n",
              "      <td>1</td>\n",
              "      <td>3</td>\n",
              "      <td>1</td>\n",
              "      <td>4.0</td>\n",
              "      <td>1</td>\n",
              "      <td>1</td>\n",
              "      <td>16.7000</td>\n",
              "      <td>2</td>\n",
              "      <td>0</td>\n",
              "      <td>0</td>\n",
              "    </tr>\n",
              "    <tr>\n",
              "      <th>11</th>\n",
              "      <td>1</td>\n",
              "      <td>1</td>\n",
              "      <td>1</td>\n",
              "      <td>58.0</td>\n",
              "      <td>0</td>\n",
              "      <td>0</td>\n",
              "      <td>26.5500</td>\n",
              "      <td>1</td>\n",
              "      <td>0</td>\n",
              "      <td>1</td>\n",
              "    </tr>\n",
              "    <tr>\n",
              "      <th>...</th>\n",
              "      <td>...</td>\n",
              "      <td>...</td>\n",
              "      <td>...</td>\n",
              "      <td>...</td>\n",
              "      <td>...</td>\n",
              "      <td>...</td>\n",
              "      <td>...</td>\n",
              "      <td>...</td>\n",
              "      <td>...</td>\n",
              "      <td>...</td>\n",
              "    </tr>\n",
              "    <tr>\n",
              "      <th>871</th>\n",
              "      <td>1</td>\n",
              "      <td>1</td>\n",
              "      <td>1</td>\n",
              "      <td>47.0</td>\n",
              "      <td>1</td>\n",
              "      <td>1</td>\n",
              "      <td>52.5542</td>\n",
              "      <td>1</td>\n",
              "      <td>0</td>\n",
              "      <td>0</td>\n",
              "    </tr>\n",
              "    <tr>\n",
              "      <th>872</th>\n",
              "      <td>0</td>\n",
              "      <td>1</td>\n",
              "      <td>0</td>\n",
              "      <td>33.0</td>\n",
              "      <td>0</td>\n",
              "      <td>0</td>\n",
              "      <td>5.0000</td>\n",
              "      <td>0</td>\n",
              "      <td>1</td>\n",
              "      <td>1</td>\n",
              "    </tr>\n",
              "    <tr>\n",
              "      <th>879</th>\n",
              "      <td>1</td>\n",
              "      <td>1</td>\n",
              "      <td>1</td>\n",
              "      <td>56.0</td>\n",
              "      <td>0</td>\n",
              "      <td>1</td>\n",
              "      <td>83.1583</td>\n",
              "      <td>1</td>\n",
              "      <td>0</td>\n",
              "      <td>0</td>\n",
              "    </tr>\n",
              "    <tr>\n",
              "      <th>887</th>\n",
              "      <td>1</td>\n",
              "      <td>1</td>\n",
              "      <td>1</td>\n",
              "      <td>19.0</td>\n",
              "      <td>0</td>\n",
              "      <td>0</td>\n",
              "      <td>30.0000</td>\n",
              "      <td>1</td>\n",
              "      <td>0</td>\n",
              "      <td>1</td>\n",
              "    </tr>\n",
              "    <tr>\n",
              "      <th>889</th>\n",
              "      <td>1</td>\n",
              "      <td>1</td>\n",
              "      <td>0</td>\n",
              "      <td>26.0</td>\n",
              "      <td>0</td>\n",
              "      <td>0</td>\n",
              "      <td>30.0000</td>\n",
              "      <td>0</td>\n",
              "      <td>1</td>\n",
              "      <td>1</td>\n",
              "    </tr>\n",
              "  </tbody>\n",
              "</table>\n",
              "<p>182 rows × 10 columns</p>\n",
              "</div>"
            ],
            "text/plain": [
              "     survived  pclass  sex   age  sibsp  parch     fare  who  adult_male  alone\n",
              "1           1       1    1  38.0      1      0  71.2833    1           0      0\n",
              "3           1       1    1  35.0      1      0  53.1000    1           0      0\n",
              "6           0       1    0  54.0      0      0  51.8625    0           1      1\n",
              "10          1       3    1   4.0      1      1  16.7000    2           0      0\n",
              "11          1       1    1  58.0      0      0  26.5500    1           0      1\n",
              "..        ...     ...  ...   ...    ...    ...      ...  ...         ...    ...\n",
              "871         1       1    1  47.0      1      1  52.5542    1           0      0\n",
              "872         0       1    0  33.0      0      0   5.0000    0           1      1\n",
              "879         1       1    1  56.0      0      1  83.1583    1           0      0\n",
              "887         1       1    1  19.0      0      0  30.0000    1           0      1\n",
              "889         1       1    0  26.0      0      0  30.0000    0           1      1\n",
              "\n",
              "[182 rows x 10 columns]"
            ]
          },
          "metadata": {
            "tags": []
          },
          "execution_count": 552
        }
      ]
    },
    {
      "cell_type": "markdown",
      "metadata": {
        "id": "8NwkHvymayRl"
      },
      "source": [
        "## 데이터셋 나누기 : train/test"
      ]
    },
    {
      "cell_type": "code",
      "metadata": {
        "id": "KMY9fuCbayRl"
      },
      "source": [
        "train_dataset = df.sample(frac=0.8, random_state=42)\n",
        "test_dataset=df.drop(train_dataset.index)"
      ],
      "execution_count": 553,
      "outputs": []
    },
    {
      "cell_type": "code",
      "metadata": {
        "id": "v2J2Jt1yayRm",
        "colab": {
          "base_uri": "https://localhost:8080/"
        },
        "outputId": "12ce7de2-6f46-473b-b7f5-86b73dcce7d8"
      },
      "source": [
        "# 정답 라벨 생성\n",
        "\n",
        "train_labels=train_dataset.pop(\"survived\")\n",
        "test_labels=test_dataset.pop(\"survived\")\n",
        "\n",
        "train_dataset.shape,test_dataset.shape"
      ],
      "execution_count": 554,
      "outputs": [
        {
          "output_type": "execute_result",
          "data": {
            "text/plain": [
              "((146, 9), (36, 9))"
            ]
          },
          "metadata": {
            "tags": []
          },
          "execution_count": 554
        }
      ]
    },
    {
      "cell_type": "markdown",
      "metadata": {
        "id": "O6MMnuNBayRn"
      },
      "source": [
        "## 딥러닝 모델 만들기"
      ]
    },
    {
      "cell_type": "code",
      "metadata": {
        "id": "s8OQIQwhayRp",
        "colab": {
          "base_uri": "https://localhost:8080/"
        },
        "outputId": "d94a448a-a9dc-43b4-fe4f-c11aa058cd00"
      },
      "source": [
        "import numpy as np\n",
        "import torch\n",
        "import torch.nn as nn\n",
        "import torch.nn.functional as F\n",
        "import torch.optim as optim\n",
        "\n",
        "print(torch.__version__)\n",
        "\n",
        "device = 'cuda' if torch.cuda.is_available() else 'cpu'\n",
        "print('Using {} device'.format(device))\n",
        "\n",
        "class NeuralNetwork(nn.Module):\n",
        "    def __init__(self):\n",
        "        super(NeuralNetwork, self).__init__()\n",
        "        # self.flatten = nn.Flatten()\n",
        "        self.linear_relu_stack = nn.Sequential(\n",
        "            nn.Linear(9, 64),\n",
        "            nn.ReLU(),\n",
        "            nn.Linear(64, 64),\n",
        "            nn.ReLU(),\n",
        "            nn.Linear(64, 1),\n",
        "            nn.Sigmoid()\n",
        "        )\n",
        "\n",
        "    def forward(self, x):\n",
        "        x.shape\n",
        "        # x = self.flatten(x)\n",
        "        logits = self.linear_relu_stack(x)\n",
        "        return logits\n",
        "\n",
        "model = NeuralNetwork()"
      ],
      "execution_count": 555,
      "outputs": [
        {
          "output_type": "stream",
          "text": [
            "1.9.0+cu102\n",
            "Using cuda device\n"
          ],
          "name": "stdout"
        }
      ]
    },
    {
      "cell_type": "markdown",
      "metadata": {
        "id": "V-yOlmprayRr"
      },
      "source": [
        "## 딥러닝 모델로 학습하기"
      ]
    },
    {
      "cell_type": "code",
      "metadata": {
        "colab": {
          "base_uri": "https://localhost:8080/"
        },
        "id": "awxxPTkkabP1",
        "outputId": "0e8ec87d-2943-413b-b77f-6308e29c038b"
      },
      "source": [
        "# dataset 텐서로 변환\n",
        "x_train=torch.tensor(np.array(train_dataset.values, dtype=np.float32))\n",
        "y_train=torch.tensor(np.array(train_labels.values, dtype=np.float32))\n",
        "y_train=y_train.view(-1, 1)\n",
        "# print(x_train.shape, y_train.view(-1, 1).shape)\n",
        "\n",
        "# optimizer 설정\n",
        "optimizer = optim.SGD(model.parameters(), lr=0.01)\n",
        "\n",
        "nb_epochs = 10000\n",
        "for epoch in range(nb_epochs + 1):\n",
        "\n",
        "    # H(x) 계산\n",
        "    hypothesis = model(x_train)\n",
        "\n",
        "    # cost 계산\n",
        "    cost = F.mse_loss(hypothesis, y_train)\n",
        "\n",
        "    # cost로 H(x) 개선\n",
        "    optimizer.zero_grad()\n",
        "    cost.backward()\n",
        "    optimizer.step()\n",
        "\n",
        "    # 50번마다 로그 출력\n",
        "    if epoch % 1000 == 0:\n",
        "        prediction = hypothesis >= torch.FloatTensor([0.6]) # 예측값이 0.5를 넘으면 True로 간주\n",
        "        correct_prediction = prediction.float() == y_train # 실제값과 일치하는 경우만 True로 간주\n",
        "        accuracy = correct_prediction.sum().item() / len(correct_prediction) # 정확도를 계산\n",
        "        print('Epoch {:4d}/{} Cost: {:.6f} Accuracy {:2.2f}%'.format( # 각 에포크마다 정확도를 출력\n",
        "            epoch, nb_epochs, cost.item(), accuracy * 100,\n",
        "        ))"
      ],
      "execution_count": 556,
      "outputs": [
        {
          "output_type": "stream",
          "text": [
            "Epoch    0/10000 Cost: 0.274843 Accuracy 65.75%\n",
            "Epoch 1000/10000 Cost: 0.190780 Accuracy 69.86%\n",
            "Epoch 2000/10000 Cost: 0.170522 Accuracy 74.66%\n",
            "Epoch 3000/10000 Cost: 0.175156 Accuracy 71.92%\n",
            "Epoch 4000/10000 Cost: 0.169013 Accuracy 72.60%\n",
            "Epoch 5000/10000 Cost: 0.163973 Accuracy 75.34%\n",
            "Epoch 6000/10000 Cost: 0.166548 Accuracy 76.71%\n",
            "Epoch 7000/10000 Cost: 0.153803 Accuracy 76.03%\n",
            "Epoch 8000/10000 Cost: 0.179329 Accuracy 75.34%\n",
            "Epoch 9000/10000 Cost: 0.144994 Accuracy 78.08%\n",
            "Epoch 10000/10000 Cost: 0.149756 Accuracy 79.45%\n"
          ],
          "name": "stdout"
        }
      ]
    },
    {
      "cell_type": "markdown",
      "metadata": {
        "id": "qFRnLE8hayRs"
      },
      "source": [
        "## 딥러닝 모델로 테스트하기"
      ]
    },
    {
      "cell_type": "code",
      "metadata": {
        "colab": {
          "base_uri": "https://localhost:8080/"
        },
        "id": "hJGOuUzmtM2l",
        "outputId": "f6a2dcb2-31ba-4ed0-e7ec-75ff3a3f5535"
      },
      "source": [
        "x_test=torch.tensor(np.array(test_dataset.values, dtype=np.float32))\n",
        "y_test=torch.tensor(np.array(test_labels.values, dtype=np.float32))\n",
        "y_test=y_test.view(-1, 1)\n",
        "\n",
        "# H(x) 계산\n",
        "hypothesis = model(x_test)\n",
        "# print(hypothesis)\n",
        "\n",
        "# cost 계산\n",
        "cost = F.mse_loss(hypothesis, y_test)\n",
        "\n",
        "# cost로 H(x) 개선\n",
        "optimizer.zero_grad()\n",
        "cost.backward()\n",
        "\n",
        "prediction = hypothesis >= torch.FloatTensor([0.6]) # 예측값이 0.5를 넘으면 True로 간주\n",
        "correct_prediction = prediction.float() == y_test # 실제값과 일치하는 경우만 True로 간주\n",
        "accuracy = correct_prediction.sum().item() / len(correct_prediction) # 정확도를 계산\n",
        "print('Cost: {:.6f} Accuracy {:2.2f}%'.format( # 각 에포크마다 정확도를 출력\n",
        "    cost.item(), accuracy * 100,\n",
        "))"
      ],
      "execution_count": 557,
      "outputs": [
        {
          "output_type": "stream",
          "text": [
            "Cost: 0.121081 Accuracy 83.33%\n"
          ],
          "name": "stdout"
        }
      ]
    },
    {
      "cell_type": "markdown",
      "metadata": {
        "id": "QPzHAUtDayRt"
      },
      "source": [
        "## 딥러닝 모델의 예측결과 평가하기\n"
      ]
    },
    {
      "cell_type": "code",
      "metadata": {
        "id": "BaWe_N7FayRv",
        "colab": {
          "base_uri": "https://localhost:8080/",
          "height": 476
        },
        "outputId": "e8a27a6b-1456-403a-abdd-f76250bf4801"
      },
      "source": [
        "import matplotlib.pyplot as plt\n",
        "\n",
        "y = hypothesis.view(-1).detach().numpy()\n",
        "\n",
        "plt.figure(figsize=(10,15))\n",
        "sns.jointplot(x=test_labels, y=y, kind=\"reg\")"
      ],
      "execution_count": 558,
      "outputs": [
        {
          "output_type": "execute_result",
          "data": {
            "text/plain": [
              "<seaborn.axisgrid.JointGrid at 0x7f29d2f2f950>"
            ]
          },
          "metadata": {
            "tags": []
          },
          "execution_count": 558
        },
        {
          "output_type": "display_data",
          "data": {
            "text/plain": [
              "<Figure size 720x1080 with 0 Axes>"
            ]
          },
          "metadata": {
            "tags": []
          }
        },
        {
          "output_type": "display_data",
          "data": {
            "image/png": "[encoded data removed]",
            "text/plain": [
              "<Figure size 432x432 with 3 Axes>"
            ]
          },
          "metadata": {
            "tags": [],
            "needs_background": "light"
          }
        }
      ]
    }
  ]
}